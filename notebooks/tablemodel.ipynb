{
 "cells": [
  {
   "cell_type": "markdown",
   "id": "korean-presentation",
   "metadata": {},
   "source": [
    "# Create fits with dark-matter spectrum\n",
    "\n",
    "The following shows how to use the class ```dmtable``` to generate a fits table compatible(?) with the ```GModelSpectralTable``` class from ```gammalib```. The fits table is comprised by a ```GNDarray``` where the dimensions refers to the parameters of the model. In our case, the parameters refer to:\n",
    "\n",
    "1. Mass of the dark matter candidate\n",
    "2. Channel of annihilation or decay\n",
    "\n",
    "With this, the ```GModelSpectralTable``` class get the spectrum for different values of the parameters via interpolation. Additionally, you can specify an overall normalization parameter to take into account for extra parameters, like the astrophysical factors or the annihilation cross-section $\\langle\\sigma_{\\chi}v\\rangle$ or the lifetime of the candidate $\\tau_{\\chi}$. This is important because you can create a fits table for a family of targets with similar properties, while the astrophysical factor is the only parameter that changes among all the targets in the sample (for example dwarf spheroidal galaxies). At this moment, the channel parameter is fixed.\n",
    "\n",
    "The ```dmtable``` take a ```dmspectrum``` instance as one of its parameters, wo you need to create before an instance. The advantage of this approach is that you can change values of the ```dmspectrum``` object via the methods ```hasEW``` and ```process``` to whether to include or not EW corrections in the spectrum, or change between the two processes available at this moment."
   ]
  },
  {
   "cell_type": "code",
   "execution_count": 1,
   "id": "seeing-blues",
   "metadata": {},
   "outputs": [],
   "source": [
    "from ctadmtool.dmspectrum.dmspectra import dmspectrum\n",
    "from ctadmtool.dmspectrum.dmflux_table import dmtable"
   ]
  },
  {
   "cell_type": "markdown",
   "id": "appropriate-intersection",
   "metadata": {},
   "source": [
    "## Input parameters\n",
    "\n",
    "The, I define some global parameters of the dark matter candidate (mass \\[GeV\\], channel, redshift and EBL attenuation model), and the energy range where I compute the spectra. I can also define the process via the ```process``` keyword argument, but I am going with the default here. Both, mass and channel are used to create the ```dmspec``` instance."
   ]
  },
  {
   "cell_type": "code",
   "execution_count": 2,
   "id": "computational-analyst",
   "metadata": {},
   "outputs": [],
   "source": [
    "mass     = 1.e+3\n",
    "emin     = 30.\n",
    "emax     = 100.\n",
    "channel  = 'Tau'\n",
    "z        = 0.018\n",
    "eblmodel = 'dominguez'\n",
    "epoints  = 300\n",
    "\n",
    "dmspec = dmspectrum(mass, emin, emax, channel, z, eblmod=eblmodel, epoints=epoints)"
   ]
  },
  {
   "cell_type": "markdown",
   "id": "constitutional-variable",
   "metadata": {},
   "source": [
    "## Create ```dmtable``` object\n",
    "\n",
    "Now, I set the values of the arguments for the ```dmtable``` class. The parameters of the class are:\n",
    "\n",
    "- ```srcname``` &#10132; Name of the target or family\n",
    "- ```mmin``` &#10132; Min value of mass\n",
    "- ```mmax``` &#10132; Mac value of mass\n",
    "- ```mpoints``` &#10132; Number of points to compute between ```mmin``` and ```mmax``` (inclusive)\n",
    "- ```dminterp``` &#10132; Object of ```dmspectrum``` class\n",
    "- ```delta``` &#10132; String that indicates if candidate is a Majorana or Dirac particle (default Majorana)\n",
    "- ```sigmav``` &#10132; Value of annihilation cross-section (default $3\\times10^{-26}~\\text{cm}^3~\\text{s}^{-1}$)\n",
    "- ```jfactor``` &#10132; Value of astrophysical J factor (default $1\\times10^{19}\\text{GeV}^2~\\text{cm}^{-5}$)\n",
    "- ```lifetime``` &#10132; Value of decay lifetime (default $1\\times10^{30}~\\text{s}$)\n",
    "- ```dfactor``` &#10132; Value of astrophysical J factor (default $1\\times10^{19}~\\text{GeV}~\\text{cm}^{-2}$)"
   ]
  },
  {
   "cell_type": "code",
   "execution_count": 3,
   "id": "private-invitation",
   "metadata": {},
   "outputs": [],
   "source": [
    "srcname = 'Toy'\n",
    "sigmav  = 3.6e-26\n",
    "jfactor = 1.e+19\n",
    "mmin    = 100.\n",
    "mmax    = 1.e+5\n",
    "mpoints = 200\n",
    "\n",
    "spectral = dmtable(srcname, mmin, mmax, mpoints, dmspec)"
   ]
  },
  {
   "cell_type": "markdown",
   "id": "assumed-virus",
   "metadata": {},
   "source": [
    "Below, I show how to access to the different available methods or ```dmtable```. For example, I can access to the table model, but at this moment shows a ```None```. This is because I have not execute the method ```create_modeltable```."
   ]
  },
  {
   "cell_type": "code",
   "execution_count": 4,
   "id": "later-vegetation",
   "metadata": {},
   "outputs": [
    {
     "name": "stdout",
     "output_type": "stream",
     "text": [
      "200\n"
     ]
    }
   ],
   "source": [
    "print(len(spectral.masses))"
   ]
  },
  {
   "cell_type": "code",
   "execution_count": 5,
   "id": "remarkable-russell",
   "metadata": {},
   "outputs": [
    {
     "name": "stdout",
     "output_type": "stream",
     "text": [
      "None\n"
     ]
    }
   ],
   "source": [
    "print(spectral.tablemodel)"
   ]
  },
  {
   "cell_type": "markdown",
   "id": "fifth-sterling",
   "metadata": {},
   "source": [
    "For the case of the masses, Not only I can access to the value  of the min or max masses, but I can set a new value for masses. This automatically update the array masses used to compute the table model"
   ]
  },
  {
   "cell_type": "code",
   "execution_count": 6,
   "id": "solved-craps",
   "metadata": {},
   "outputs": [
    {
     "name": "stdout",
     "output_type": "stream",
     "text": [
      "100000.0\n"
     ]
    }
   ],
   "source": [
    "print(spectral.mmax)"
   ]
  },
  {
   "cell_type": "code",
   "execution_count": 7,
   "id": "invisible-segment",
   "metadata": {},
   "outputs": [
    {
     "name": "stdout",
     "output_type": "stream",
     "text": [
      "100.0\n"
     ]
    }
   ],
   "source": [
    "print(spectral.mmin)"
   ]
  },
  {
   "cell_type": "code",
   "execution_count": 8,
   "id": "pointed-nightlife",
   "metadata": {},
   "outputs": [
    {
     "name": "stdout",
     "output_type": "stream",
     "text": [
      "[1000.0, 1023.5310218990259, 1047.615752789665, 1072.2672220103232, 1097.4987654930555, 1123.3240329780276, 1149.7569953977356, 1176.811952434999, 1204.5035402587823, 1232.8467394420659, 1261.856883066021, 1291.549665014884, 1321.9411484660286, 1353.0477745798075, 1384.886371393873, 1417.4741629268049, 1450.8287784959402, 1484.9682622544651, 1519.9110829529332, 1555.6761439304723, 1592.2827933410922, 1629.7508346206434, 1668.100537200059, 1707.3526474706905, 1747.5284000076829, 1788.649529057435, 1830.7382802953678, 1873.817422860385, 1917.9102616724888, 1963.0406500402705, 2009.2330025650479, 2056.5123083486515, 2104.9041445120197, 2154.4346900318847, 2205.1307399030457, 2257.0197196339213, 2310.1297000831605, 2364.4894126454074, 2420.1282647943835, 2477.0763559917114, 2535.3644939701117, 2595.0242113997374, 2656.0877829466867, 2718.58824273294, 2782.559402207126, 2848.035868435802, 2915.053062825176, 2983.64724028334, 3053.8555088334156, 3125.7158496882353, 3199.2671377973843, 3274.5491628777286, 3351.6026509388407, 3430.4692863149194, 3511.191734215131, 3593.813663804626, 3678.379771828634, 3764.9358067924672, 3853.5285937105273, 3944.206059437656, 4037.017258596554, 4132.012400115339, 4229.242874389499, 4328.7612810830615, 4430.621457583882, 4534.878508128582, 4641.588833612782, 4750.810162102798, 4862.601580065353, 4977.023564332114, 5094.138014816381, 5214.008287999684, 5336.699231206313, 5462.277217684343, 5590.810182512223, 5722.3676593502205, 5857.020818056667, 5994.8425031894085, 6135.907273413176, 6280.291441834253, 6428.073117284319, 6579.332246575683, 6734.150657750822, 6892.612104349695, 7054.8023107186455, 7220.809018385464, 7390.722033525775, 7564.633275546291, 7742.63682681127, 7924.828983539178, 8111.308307896872, 8302.175681319744, 8497.534359086447, 8697.490026177835, 8902.150854450392, 9111.627561154895, 9326.0334688322, 9545.484566618346, 9770.099572992256, 10000.0]\n"
     ]
    }
   ],
   "source": [
    "spectral.masses = [1.e+3, 1.e+4, 100]\n",
    "print(spectral.masses)"
   ]
  },
  {
   "cell_type": "code",
   "execution_count": 9,
   "id": "intense-oxygen",
   "metadata": {},
   "outputs": [
    {
     "name": "stdout",
     "output_type": "stream",
     "text": [
      "100000.0\n",
      "[100.0, 103.53218432956626, 107.18913192051275, 110.97524964120721, 114.89510001873086, 118.95340673703195, 123.15506032928262, 127.50512407130128, 132.00884008314182, 136.6716356462006, 141.4991297434576, 146.49713983072863, 151.67168884709224, 157.02901247293775, 162.57556664437934, 168.31803533309568, 174.26333860096508, 180.41864093920717, 186.79135990207828, 193.38917504552302, 200.22003718155844, 207.29217795953718, 214.61411978584036, 222.19468609395238, 230.04301197729168, 238.16855519761583, 246.5811075822604, 255.29080682395167, 264.30814869741056, 273.6439997074672, 283.3096101839324, 293.3166278390045, 303.67711180354576, 314.40354715915, 325.50885998350566, 337.0064329271928, 348.9101213406774, 361.23426997094305, 373.9937302478798, 387.20387818125573, 400.8806328898465, 415.04047578504765, 429.70047043208393, 444.87828311275854, 460.59220411451037, 476.86116977144695, 493.7047852839004, 511.14334834401654, 529.1978735958442, 547.8901179593945, 567.2426068491977, 587.2786613189483, 608.0224261649421, 629.4988990221888, 651.733960488242, 674.7544053110693, 698.5879746785249, 723.2633896483534, 748.8103857590023, 775.2597488629465, 802.6433522257174, 830.9941949353396, 860.34644166845, 890.735463861044, 922.1978823334322, 954.7716114208056, 988.4959046625586, 1023.4114021054527, 1059.5601792776158, 1096.985797892384, 1135.7333583431052, 1175.8495540521558, 1217.382727739662, 1260.3829296797273, 1304.9019780144015, 1350.9935211980264, 1398.7131026472387, 1448.118227674533, 1499.2684327860457, 1552.225357427048, 1607.0528182616385, 1663.8168860761273, 1722.5859653987875, 1783.4308769319093, 1846.4249428955425, 1911.6440753857016, 1979.1668678535573, 2049.074689815846, 2121.45178491063, 2196.385372416547, 2273.9657523579276, 2354.2864143224156, 2437.444150122222, 2523.5391704347658, 2612.6752255633264, 2704.9597304631343, 2800.503894183631, 2899.422853882875, 3001.835813575589, 3107.866187782014, 3217.641750250735, 3331.2947879346734, 3448.96226040576, 3570.7859649004627, 3696.9127071950247, 3827.494478516311, 3962.6886387014783, 4102.65810582719, 4247.571552536899, 4397.603609302721, 4552.935074866948, 4713.753134116724, 4880.2515836544335, 5052.6310653356795, 5231.099308056258, 5415.871378079471, 5607.1699382054585, 5805.225516094895, 6010.276782070382, 6222.570836730231, 6442.363508721371, 6669.919663030122, 6905.513520162331, 7149.428986597577, 7401.959996915637, 7663.410868007455, 7934.096665797492, 8214.343584919421, 8504.489341802677, 8804.883581643464, 9115.888299750819, 9437.878277775382, 9771.241535346502, 10116.37979766207, 10473.708979594487, 10843.659686896086, 11226.677735108136, 11623.224686798518, 12033.778407775904, 12458.833642950081, 12898.90261253308, 13354.515629298974, 13826.221737646536, 14314.589375234786, 14820.2070579886, 15343.684089300132, 15885.651294280528, 16446.761779946628, 17027.691722258976, 17629.14118095948, 18251.834943190424, 18896.523396912115, 19563.98343517065, 20255.019392306665, 20970.464013232307, 21711.17945694501, 22478.058335487254, 23272.024789604075, 24094.03560239527, 24945.081352303165, 25826.18760682675, 26738.41615839944, 27682.86630392061, 28660.676169482504, 29673.024081888725, 30721.12998861759, 31806.25692794119, 32929.71255097148, 34092.85069746808, 35297.0730273065, 36543.83070957255, 37834.62617131933, 39171.014908092606, 40554.60735840828, 41987.070844439055, 43470.13158125018, 45005.57675700497, 46595.256686646775, 48241.08704165374, 49945.0511585514, 51709.202428967554, 53535.66677410719, 55426.64520663096, 57384.416483023924, 59411.3398496504, 61509.857885805046, 63682.49944718586, 65931.88271333542, 68260.71834272379, 70671.81273927492, 73168.07143427191, 75752.5025877192, 78428.22061337682, 81198.44993184009, 84066.52885618317, 87035.91361485148, 90110.18251665018, 93293.04026284696, 96588.32241158708, 100000.0]\n"
     ]
    }
   ],
   "source": [
    "spectral.mmax = 1.e+5\n",
    "print(spectral.mmax)\n",
    "print(spectral.masses)"
   ]
  },
  {
   "cell_type": "code",
   "execution_count": 10,
   "id": "collect-broadcast",
   "metadata": {},
   "outputs": [
    {
     "name": "stdout",
     "output_type": "stream",
     "text": [
      "1e+19\n"
     ]
    }
   ],
   "source": [
    "print(spectral.jfactor)"
   ]
  },
  {
   "cell_type": "code",
   "execution_count": 11,
   "id": "retired-northwest",
   "metadata": {},
   "outputs": [
    {
     "name": "stdout",
     "output_type": "stream",
     "text": [
      "3.6e-26\n"
     ]
    }
   ],
   "source": [
    "print(spectral.sigmav)"
   ]
  },
  {
   "cell_type": "code",
   "execution_count": 12,
   "id": "handy-serial",
   "metadata": {},
   "outputs": [
    {
     "name": "stdout",
     "output_type": "stream",
     "text": [
      "Majorana\n"
     ]
    }
   ],
   "source": [
    "print(spectral.delta)"
   ]
  },
  {
   "cell_type": "markdown",
   "id": "possible-potter",
   "metadata": {},
   "source": [
    "I can access to the channels used to compute the spectrum. The channels depends in the property ```hasEW```. In this case, by default, the ```dmspectrum``` object include EW corrections (```hasEW = True```). As you can guess, the channels showed here are taken from the ```PPPC4DMID``` project."
   ]
  },
  {
   "cell_type": "code",
   "execution_count": 13,
   "id": "native-seafood",
   "metadata": {},
   "outputs": [
    {
     "name": "stdout",
     "output_type": "stream",
     "text": [
      "('eL', 'eR', 'e', 'MuL', 'MuR', 'Mu', 'TauL', 'TauR', 'Tau', 'q', 'c', 'b', 't', 'WL', 'WT', 'W', 'ZL', 'ZT', 'Z', 'g', 'Gamma', 'h', 'Nue', 'NuMu', 'NuTau', 'Ve', 'VMu', 'VTau')\n"
     ]
    }
   ],
   "source": [
    "print(spectral.allowed_channels)"
   ]
  },
  {
   "cell_type": "markdown",
   "id": "mexican-province",
   "metadata": {},
   "source": [
    "Ok, perfect. Now, I don't want to include EW corrections so I pass ```False``` to the property ```hasEW```. When doing this, ```dmtable``` also update the list of available channels."
   ]
  },
  {
   "cell_type": "code",
   "execution_count": 14,
   "id": "protected-aspect",
   "metadata": {},
   "outputs": [],
   "source": [
    "spectral.hasEW = False"
   ]
  },
  {
   "cell_type": "code",
   "execution_count": 15,
   "id": "fossil-lincoln",
   "metadata": {},
   "outputs": [
    {
     "name": "stdout",
     "output_type": "stream",
     "text": [
      "('e', 'Mu', 'Tau', 'q', 'c', 'b', 't', 'W', 'Z', 'g')\n"
     ]
    }
   ],
   "source": [
    "print(spectral.allowed_channels)"
   ]
  },
  {
   "cell_type": "markdown",
   "id": "vanilla-incidence",
   "metadata": {},
   "source": [
    "Also, I can change between processes. For example, here I indicate to ```dmtable``` change the process to decay of dark matter, but probably I don't want to use the lifetime and dfactor specified by default, so I can pass the values of both parameters. The method ```process``` updates the value of lifetime and dfactor too. For annihilation you can do exactly the same. The order of the parameters in the list or tuple is:\n",
    "\n",
    "1. process (anna or decay)\n",
    "2. astrophysical factor\n",
    "3. $\\langle\\sigma_{\\chi}v\\rangle$ or $\\tau_{\\chi}$"
   ]
  },
  {
   "cell_type": "code",
   "execution_count": 16,
   "id": "compact-blackjack",
   "metadata": {},
   "outputs": [
    {
     "name": "stdout",
     "output_type": "stream",
     "text": [
      "1e+35\n"
     ]
    }
   ],
   "source": [
    "spectral.process = ['decay', 1.e+20, 1.e+35]\n",
    "print(spectral.lifetime)"
   ]
  },
  {
   "cell_type": "code",
   "execution_count": 17,
   "id": "alive-malta",
   "metadata": {},
   "outputs": [
    {
     "name": "stdout",
     "output_type": "stream",
     "text": [
      "2.4e-26\n"
     ]
    }
   ],
   "source": [
    "spectral.process = ['anna', 1.e+18, 2.4e-26]\n",
    "print(spectral.sigmav)"
   ]
  },
  {
   "cell_type": "markdown",
   "id": "periodic-guatemala",
   "metadata": {},
   "source": [
    "## Creating the fits table\n",
    "\n",
    "Finally, we can create the ```GModelSpectralTable``` object and save the fits table with the spectrum. In this case, I want to compute the table for 200 different values of masses, 10 available channels (no EW), and 300 values of energy. So, it takes some minutes to create the table."
   ]
  },
  {
   "cell_type": "code",
   "execution_count": 18,
   "id": "antique-divide",
   "metadata": {},
   "outputs": [
    {
     "name": "stderr",
     "output_type": "stream",
     "text": [
      "                                                  \r"
     ]
    }
   ],
   "source": [
    "spectral.create_modeltable()"
   ]
  },
  {
   "cell_type": "markdown",
   "id": "thousand-treasury",
   "metadata": {},
   "source": [
    "We can access to the table and take a look to the classname and the contents of the spectral model."
   ]
  },
  {
   "cell_type": "code",
   "execution_count": 19,
   "id": "bibliographic-experience",
   "metadata": {},
   "outputs": [],
   "source": [
    "table = spectral.tablemodel"
   ]
  },
  {
   "cell_type": "code",
   "execution_count": 20,
   "id": "departmental-portland",
   "metadata": {},
   "outputs": [
    {
     "name": "stdout",
     "output_type": "stream",
     "text": [
      "GModelSpectralTable\n"
     ]
    }
   ],
   "source": [
    "print(table.classname())"
   ]
  },
  {
   "cell_type": "code",
   "execution_count": 21,
   "id": "premium-familiar",
   "metadata": {},
   "outputs": [
    {
     "name": "stdout",
     "output_type": "stream",
     "text": [
      "=== GModelSpectralTable ===\n",
      " Table file ................: \n",
      " Number of parameters ......: 3\n",
      "  Normalization ............: 9.54929658551372e-17 +/- 0 [0,1e+60]  (free,scale=1,gradient)\n",
      "  Mass .....................: 100 GeV (fixed,scale=1)\n",
      "  Channel ..................: 2  (fixed,scale=1)\n",
      " Mass values ...............: 200 [100, 100000] (logarithmic)\n",
      " Channel values ............: 10 [0, 9] (linear)\n",
      " Energies ..................: 300 [30 GeV, 100 GeV]\n",
      " Spectra array dimension ...: 3\n",
      " Number of spectra .........: 2000\n",
      " Number of spectral bins ...: 300\n"
     ]
    }
   ],
   "source": [
    "print(table)"
   ]
  },
  {
   "cell_type": "markdown",
   "id": "meaning-laptop",
   "metadata": {},
   "source": [
    "Ok, now, we can save the fits model using the method ```save```. The name of the fits file is formed with the process used to compute the spectrum, plus the name of the target and an whether or not EW corrections are included (1 or 0). The prefix of the file is ```DMModel```"
   ]
  },
  {
   "cell_type": "code",
   "execution_count": 22,
   "id": "laden-preference",
   "metadata": {},
   "outputs": [],
   "source": [
    "spectral.save()"
   ]
  }
 ],
 "metadata": {
  "kernelspec": {
   "display_name": "Python 3",
   "language": "python",
   "name": "python3"
  },
  "language_info": {
   "codemirror_mode": {
    "name": "ipython",
    "version": 3
   },
   "file_extension": ".py",
   "mimetype": "text/x-python",
   "name": "python",
   "nbconvert_exporter": "python",
   "pygments_lexer": "ipython3",
   "version": "3.7.3"
  }
 },
 "nbformat": 4,
 "nbformat_minor": 5
}
