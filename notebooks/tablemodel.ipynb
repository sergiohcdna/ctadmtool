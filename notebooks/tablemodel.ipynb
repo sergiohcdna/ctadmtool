{
 "cells": [
  {
   "cell_type": "markdown",
   "id": "korean-presentation",
   "metadata": {},
   "source": [
    "# Create fits with dark-matter spectrum\n",
    "\n",
    "The following shows how to use the class ```dmtable``` to generate a fits table compatible(?) with the ```GModelSpectralTable``` class from ```gammalib```. The fits table is comprised by a ```GNDarray``` where the dimensions refers to the parameters of the model. In our case, the parameters refer to:\n",
    "\n",
    "1. Mass of the dark matter candidate\n",
    "2. Channel of annihilation or decay\n",
    "\n",
    "With this, the ```GModelSpectralTable``` class get the spectrum for different values of the parameters via interpolation. Additionally, you can specify an overall normalization parameter to take into account for extra parameters, like the astrophysical factors or the annihilation cross-section $\\langle\\sigma_{\\chi}v\\rangle$ or the lifetime of the candidate $\\tau_{\\chi}$. This is important because you can create a fits table for a family of targets with similar properties, while the astrophysical factor is the only parameter that changes among all the targets in the sample (for example dwarf spheroidal galaxies). At this moment, the channel parameter is fixed.\n",
    "\n",
    "The ```dmtable``` take a ```dmspectrum``` instance as one of its parameters, wo you need to create before an instance. The advantage of this approach is that you can change values of the ```dmspectrum``` object via the methods ```hasEW``` and ```process``` to whether to include or not EW corrections in the spectrum, or change between the two processes available at this moment."
   ]
  },
  {
   "cell_type": "code",
   "execution_count": 1,
   "id": "seeing-blues",
   "metadata": {},
   "outputs": [],
   "source": [
    "from ctaAnalysis.dmspectrum.dmspectra import dmspectrum\n",
    "from ctaAnalysis.dmspectrum.dmflux_table import dmtable"
   ]
  },
  {
   "cell_type": "markdown",
   "id": "appropriate-intersection",
   "metadata": {},
   "source": [
    "## Input parameters\n",
    "\n",
    "The, I define some global parameters of the dark matter candidate (mass \\[GeV\\], channel, redshift and EBL attenuation model), and the energy range where I compute the spectra. I can also define the process via the ```process``` keyword argument, but I am going with the default here. Both, mass and channel are used to create the ```dmspec``` instance."
   ]
  },
  {
   "cell_type": "code",
   "execution_count": 2,
   "id": "computational-analyst",
   "metadata": {},
   "outputs": [],
   "source": [
    "mass     = 1.e+3\n",
    "emin     = 30.\n",
    "emax     = 100.\n",
    "channel  = 'Tau'\n",
    "z        = 0.018\n",
    "eblmodel = 'dominguez'\n",
    "epoints  = 300\n",
    "\n",
    "dmspec = dmspectrum(mass, emin, emax, channel, z, eblmod=eblmodel, epoints=epoints)"
   ]
  },
  {
   "cell_type": "markdown",
   "id": "constitutional-variable",
   "metadata": {},
   "source": [
    "## Create ```dmtable``` object\n",
    "\n",
    "Now, I set the values of the arguments for the ```dmtable``` class. The parameters of the class are:\n",
    "\n",
    "- ```srcname``` &#10132; Name of the target or family\n",
    "- ```mmin``` &#10132; Min value of mass\n",
    "- ```mmax``` &#10132; Mac value of mass\n",
    "- ```mpoints``` &#10132; Number of points to compute between ```mmin``` and ```mmax``` (inclusive)\n",
    "- ```dminterp``` &#10132; Object of ```dmspectrum``` class\n",
    "- ```delta``` &#10132; String that indicates if candidate is a Majorana or Dirac particle (default Majorana)\n",
    "- ```sigmav``` &#10132; Value of annihilation cross-section (default $3\\times10^{-26}~\\text{cm}^3~\\text{s}^{-1}$)\n",
    "- ```jfactor``` &#10132; Value of astrophysical J factor (default $1\\times10^{19}\\text{GeV}^2~\\text{cm}^{-5}$)\n",
    "- ```lifetime``` &#10132; Value of decay lifetime (default $1\\times10^{30}~\\text{s}$)\n",
    "- ```dfactor``` &#10132; Value of astrophysical J factor (default $1\\times10^{19}~\\text{GeV}~\\text{cm}^{-2}$)"
   ]
  },
  {
   "cell_type": "code",
   "execution_count": 3,
   "id": "private-invitation",
   "metadata": {},
   "outputs": [],
   "source": [
    "srcname = 'Toy'\n",
    "sigmav  = 3.6e-26\n",
    "jfactor = 1.e+19\n",
    "mmin    = 100.\n",
    "mmax    = 1.e+5\n",
    "mpoints = 200\n",
    "\n",
    "spectral = dmtable(srcname, mmin, mmax, mpoints, dmspec)"
   ]
  },
  {
   "cell_type": "markdown",
   "id": "assumed-virus",
   "metadata": {},
   "source": [
    "Below, I show how to access to the different available methods or ```dmtable```. For example, I can access to the table model, but at this moment shows a ```None```. This is because I have not execute the method ```create_modeltable```."
   ]
  },
  {
   "cell_type": "code",
   "execution_count": 4,
   "id": "later-vegetation",
   "metadata": {},
   "outputs": [
    {
     "name": "stdout",
     "output_type": "stream",
     "text": [
      "200\n"
     ]
    }
   ],
   "source": [
    "print(len(spectral.masses))"
   ]
  },
  {
   "cell_type": "code",
   "execution_count": 5,
   "id": "remarkable-russell",
   "metadata": {},
   "outputs": [
    {
     "name": "stdout",
     "output_type": "stream",
     "text": [
      "None\n"
     ]
    }
   ],
   "source": [
    "print(spectral.tablemodel)"
   ]
  },
  {
   "cell_type": "code",
   "execution_count": 6,
   "id": "solved-craps",
   "metadata": {},
   "outputs": [
    {
     "name": "stdout",
     "output_type": "stream",
     "text": [
      "100000.0\n"
     ]
    }
   ],
   "source": [
    "print(spectral.mmax)"
   ]
  },
  {
   "cell_type": "code",
   "execution_count": 7,
   "id": "invisible-segment",
   "metadata": {},
   "outputs": [
    {
     "name": "stdout",
     "output_type": "stream",
     "text": [
      "100.0\n"
     ]
    }
   ],
   "source": [
    "print(spectral.mmin)"
   ]
  },
  {
   "cell_type": "code",
   "execution_count": 8,
   "id": "collect-broadcast",
   "metadata": {},
   "outputs": [
    {
     "name": "stdout",
     "output_type": "stream",
     "text": [
      "1e+19\n"
     ]
    }
   ],
   "source": [
    "print(spectral.jfactor)"
   ]
  },
  {
   "cell_type": "code",
   "execution_count": 9,
   "id": "retired-northwest",
   "metadata": {},
   "outputs": [
    {
     "name": "stdout",
     "output_type": "stream",
     "text": [
      "3.6e-26\n"
     ]
    }
   ],
   "source": [
    "print(spectral.sigmav)"
   ]
  },
  {
   "cell_type": "code",
   "execution_count": 10,
   "id": "handy-serial",
   "metadata": {},
   "outputs": [
    {
     "name": "stdout",
     "output_type": "stream",
     "text": [
      "Majorana\n"
     ]
    }
   ],
   "source": [
    "print(spectral.delta)"
   ]
  },
  {
   "cell_type": "markdown",
   "id": "possible-potter",
   "metadata": {},
   "source": [
    "I can access to the channels used to compute the spectrum. The channels depends in the property ```hasEW```. In this case, by default, the ```dmspectrum``` object include EW corrections (```hasEW = True```). As you can guess, the channels showed here are taken from the ```PPPC4DMID``` project."
   ]
  },
  {
   "cell_type": "code",
   "execution_count": 11,
   "id": "native-seafood",
   "metadata": {},
   "outputs": [
    {
     "name": "stdout",
     "output_type": "stream",
     "text": [
      "('eL', 'eR', 'e', 'MuL', 'MuR', 'Mu', 'TauL', 'TauR', 'Tau', 'q', 'c', 'b', 't', 'WL', 'WT', 'W', 'ZL', 'ZT', 'Z', 'g', 'Gamma', 'h', 'Nue', 'NuMu', 'NuTau', 'Ve', 'VMu', 'VTau')\n"
     ]
    }
   ],
   "source": [
    "print(spectral.allowed_channels)"
   ]
  },
  {
   "cell_type": "markdown",
   "id": "mexican-province",
   "metadata": {},
   "source": [
    "Ok, perfect. Now, I don't want to include EW corrections so I pass ```False``` to the property ```hasEW```. When doing this, ```dmtable``` also update the list of available channels."
   ]
  },
  {
   "cell_type": "code",
   "execution_count": 12,
   "id": "protected-aspect",
   "metadata": {},
   "outputs": [],
   "source": [
    "spectral.hasEW = False"
   ]
  },
  {
   "cell_type": "code",
   "execution_count": 13,
   "id": "fossil-lincoln",
   "metadata": {},
   "outputs": [
    {
     "name": "stdout",
     "output_type": "stream",
     "text": [
      "('e', 'Mu', 'Tau', 'q', 'c', 'b', 't', 'W', 'Z', 'g')\n"
     ]
    }
   ],
   "source": [
    "print(spectral.allowed_channels)"
   ]
  },
  {
   "cell_type": "markdown",
   "id": "vanilla-incidence",
   "metadata": {},
   "source": [
    "Also, I can change between processes. For example, here I indicate to ```dmtable``` change the process to decay of dark matter, but probably I don't want to use the lifetime and dfactor specified by default, so I can pass the values of both parameters. The method ```process``` updates the value of lifetime and dfactor too. For annihilation you can do exactly the same. The order of the parameters in the list or tuple is:\n",
    "\n",
    "1. process (anna or decay)\n",
    "2. astrophysical factor\n",
    "3. $\\langle\\sigma_{\\chi}v\\rangle$ or $\\tau_{\\chi}$"
   ]
  },
  {
   "cell_type": "code",
   "execution_count": 14,
   "id": "compact-blackjack",
   "metadata": {},
   "outputs": [
    {
     "name": "stdout",
     "output_type": "stream",
     "text": [
      "1e+35\n"
     ]
    }
   ],
   "source": [
    "spectral.process = ['decay', 1.e+20, 1.e+35]\n",
    "print(spectral.lifetime)"
   ]
  },
  {
   "cell_type": "code",
   "execution_count": 15,
   "id": "alive-malta",
   "metadata": {},
   "outputs": [
    {
     "name": "stdout",
     "output_type": "stream",
     "text": [
      "2.4e-26\n"
     ]
    }
   ],
   "source": [
    "spectral.process = ['anna', 1.e+18, 2.4e-26]\n",
    "print(spectral.sigmav)"
   ]
  },
  {
   "cell_type": "markdown",
   "id": "periodic-guatemala",
   "metadata": {},
   "source": [
    "## Creating the fits table\n",
    "\n",
    "Finally, we can create the ```GModelSpectralTable``` object and save the fits table with the spectrum. In this case, I want to compute the table for 200 different values of masses, 10 available channels (no EW), and 300 values of energy. So, it takes some minutes to create the table."
   ]
  },
  {
   "cell_type": "code",
   "execution_count": 16,
   "id": "antique-divide",
   "metadata": {},
   "outputs": [
    {
     "name": "stderr",
     "output_type": "stream",
     "text": [
      "200it [08:25,  2.53s/it]\n"
     ]
    }
   ],
   "source": [
    "spectral.create_modeltable()"
   ]
  },
  {
   "cell_type": "markdown",
   "id": "thousand-treasury",
   "metadata": {},
   "source": [
    "We can access to the table and take a look to the classname and the contents of the spectral model."
   ]
  },
  {
   "cell_type": "code",
   "execution_count": 17,
   "id": "bibliographic-experience",
   "metadata": {},
   "outputs": [],
   "source": [
    "table = spectral.tablemodel"
   ]
  },
  {
   "cell_type": "code",
   "execution_count": 18,
   "id": "departmental-portland",
   "metadata": {},
   "outputs": [
    {
     "name": "stdout",
     "output_type": "stream",
     "text": [
      "GModelSpectralTable\n"
     ]
    }
   ],
   "source": [
    "print(table.classname())"
   ]
  },
  {
   "cell_type": "code",
   "execution_count": 19,
   "id": "premium-familiar",
   "metadata": {},
   "outputs": [
    {
     "name": "stdout",
     "output_type": "stream",
     "text": [
      "=== GModelSpectralTable ===\n",
      " Table file ................: \n",
      " Number of parameters ......: 3\n",
      "  Normalization ............: 9.54929658551372e-17 +/- 0 [0,1e+60]  (free,scale=1,gradient)\n",
      "  Mass .....................: 100 GeV (fixed,scale=1)\n",
      "  Channel ..................: 2  (fixed,scale=1)\n",
      " Mass values ...............: 200 [100, 100000] (logarithmic)\n",
      " Channel values ............: 10 [0, 9] (linear)\n",
      " Energies ..................: 300 [30 GeV, 100 GeV]\n",
      " Spectra array dimension ...: 3\n",
      " Number of spectra .........: 2000\n",
      " Number of spectral bins ...: 300\n"
     ]
    }
   ],
   "source": [
    "print(table)"
   ]
  },
  {
   "cell_type": "markdown",
   "id": "meaning-laptop",
   "metadata": {},
   "source": [
    "Ok, now, we can save the fits model using the method ```save```. The name of the fits file is formed with the process used to compute the spectrum, plus the name of the target and an whether or not EW corrections are included (1 or 0). The prefix of the file is ```DMModel```"
   ]
  },
  {
   "cell_type": "code",
   "execution_count": 20,
   "id": "laden-preference",
   "metadata": {},
   "outputs": [],
   "source": [
    "spectral.save()"
   ]
  }
 ],
 "metadata": {
  "kernelspec": {
   "display_name": "Python 3",
   "language": "python",
   "name": "python3"
  },
  "language_info": {
   "codemirror_mode": {
    "name": "ipython",
    "version": 3
   },
   "file_extension": ".py",
   "mimetype": "text/x-python",
   "name": "python",
   "nbconvert_exporter": "python",
   "pygments_lexer": "ipython3",
   "version": "3.7.3"
  }
 },
 "nbformat": 4,
 "nbformat_minor": 5
}
