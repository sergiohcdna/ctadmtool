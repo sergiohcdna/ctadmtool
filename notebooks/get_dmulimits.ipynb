{
 "cells": [
  {
   "cell_type": "markdown",
   "id": "hawaiian-rwanda",
   "metadata": {},
   "source": [
    "# Example of analysis script to get upper limits using csdmatter app\n",
    "\n",
    "The goal is to show you how to use the csdmatter app to compute exclusion limits to the annihilation cross-section using the PPPC4DMID tables.\n",
    "\n",
    "We start by importing `gammalib` and `ctools`, alongside the csdmatter."
   ]
  },
  {
   "cell_type": "code",
   "execution_count": 1,
   "id": "incredible-delta",
   "metadata": {},
   "outputs": [],
   "source": [
    "#   Default imports\n",
    "import gammalib\n",
    "import ctools\n",
    "import cscripts\n",
    "\n",
    "from ctaAnalysis.csdmatter import csdmatter\n",
    "\n",
    "import os"
   ]
  },
  {
   "cell_type": "markdown",
   "id": "dirty-cookbook",
   "metadata": {},
   "source": [
    "We used the observation from the previous example notebook `dmsimulation.ipynb`. You can use your own observations too. As other `ctools` and `gammalib` apps, you can directly pass the observation container from other tools/apps. This is only valid for On observations, and not for On/Off observations generated with `csphagen` (still working to solve the issue)"
   ]
  },
  {
   "cell_type": "code",
   "execution_count": 2,
   "id": "arctic-airport",
   "metadata": {},
   "outputs": [],
   "source": [
    "#   Name of fits with events from a dm simulation\n",
    "#   The fits I am using here is obtained from \n",
    "#   the example \"Simulation of gamma-ray emission from a Toy Dark halo\"\n",
    "file = 'Haloobssim.fits'"
   ]
  },
  {
   "cell_type": "markdown",
   "id": "fleet-installation",
   "metadata": {},
   "source": [
    "## Input parameters\n",
    "\n",
    "The following shows all the input parameters required to initialize the `csdmatter` class.\n",
    "\n",
    "Due to numerical precision issues, `csdmatter` handles the creation of `GModelSpectralTable` models *in-fly*. The models are created for the channel indicated in the input parameters, and a new range of masses around the dark-matter mass tested. This is also to properly analysis `GCTAOnOff` observations (please check the notebooks for an example). You can still use `GModelSpectralTable` models created with `dmtable` class (including all the channels) to simulate observations."
   ]
  },
  {
   "cell_type": "code",
   "execution_count": 3,
   "id": "arabic-arthur",
   "metadata": {},
   "outputs": [],
   "source": [
    "#   csdmatter App input parameters\n",
    "#   I know there are a lot of input parameters\n",
    "#   And, at some point, some of the parameters can change, BTW\n",
    "mmin          = 100.0         #   Minimum value of mass range to compute ULs (in GeV)\n",
    "mmax          = 1.e+5         #   Maximum value of mass range to compute ULs (in GeV)\n",
    "mnumpoints    = 10            #   Number of points to compute in the range [mmin,mmax]\n",
    "process       = 'ANNA'        #   Process\n",
    "channel       = 'b'           #   annihilation channel\n",
    "ewcorrections = True          #   include EW corrections. I am using PPPC4DMID tables\n",
    "logsigmav     = -25.443697    #   Log of sigmav (~3.6e-26)\n",
    "logastfactor  = 18.7          #   Log of Jfactor\n",
    "emin          = 30            #   Minimum energy to compute gamma-ray flux (in GeV)\n",
    "emax          = 1.e+5         #   Maximum energy to compute gamma-ray flux (in GeV)\n",
    "modtype       = 'PointSource' #   Model type\n",
    "ra            = 80.6          #   in degrees\n",
    "dec           = 23.5          #   in degrees\n",
    "nthreads      = 4             #   Number of threads\n",
    "caldb         = 'prod3b-v2'\n",
    "irf           = 'North_z40_50h'\n",
    "srcname       = 'ToyDarkHalo' #   name of the source"
   ]
  },
  {
   "cell_type": "markdown",
   "id": "blocked-springfield",
   "metadata": {},
   "source": [
    "Finally, you can choose a name to save the results in a fits file. Also you can use the method `dmatter_fits()` to retrieve the fits container"
   ]
  },
  {
   "cell_type": "code",
   "execution_count": 4,
   "id": "fitted-volunteer",
   "metadata": {},
   "outputs": [],
   "source": [
    "#   Name of file to save results for every simulation\n",
    "ofname = 'dmResultsExample{0}.fits'.format(srcname)"
   ]
  },
  {
   "cell_type": "markdown",
   "id": "equal-surname",
   "metadata": {},
   "source": [
    "## Create an instance of csdmatter tool\n",
    "\n",
    "Now, we can create an instance of `csdmatter` (`thistool`), and excute it."
   ]
  },
  {
   "cell_type": "code",
   "execution_count": 5,
   "id": "renewable-longer",
   "metadata": {},
   "outputs": [],
   "source": [
    "#   Create instance of csdmatter app\n",
    "thistool = csdmatter()\n",
    "\n",
    "#   Passing input parameter to the app\n",
    "thistool['inobs']         = file\n",
    "thistool['srcname']       = srcname\n",
    "thistool['mmin']          = mmin\n",
    "thistool['mmax']          = mmax\n",
    "thistool['mnumpoints']    = mnumpoints\n",
    "thistool['process']       = process\n",
    "thistool['channel']       = channel\n",
    "thistool['ewcorrections'] = ewcorrections\n",
    "thistool['logsigmav']     = logsigmav\n",
    "thistool['logastfactor']  = logastfactor\n",
    "thistool['emin']          = emin\n",
    "thistool['emax']          = emax\n",
    "thistool['modtype']       = modtype\n",
    "thistool['ra']            = ra\n",
    "thistool['dec']           = dec\n",
    "thistool['caldb']         = caldb\n",
    "thistool['irf']           = irf\n",
    "thistool['nthreads']      = nthreads\n",
    "thistool['outfile']       = ofname\n",
    "thistool['clobber']       = True\n",
    "thistool['eblmodel']      = 'dominguez'\n",
    "thistool['redshift']      = 0.01\n",
    "thistool['debug']         = True\n",
    "thistool['chatter']       = 4\n",
    "thistool.logFileOpen()"
   ]
  },
  {
   "cell_type": "code",
   "execution_count": 6,
   "id": "sixth-expense",
   "metadata": {},
   "outputs": [
    {
     "name": "stderr",
     "output_type": "stream",
     "text": [
      "50it [00:45,  1.09it/s]\n",
      "50it [00:48,  1.02it/s]\n",
      "50it [00:49,  1.01it/s]\n",
      "50it [00:48,  1.03it/s]\n",
      "50it [00:58,  1.16s/it]\n",
      "50it [00:55,  1.11s/it]\n",
      "50it [00:53,  1.07s/it]\n",
      "50it [00:50,  1.02s/it]\n",
      "50it [00:52,  1.06s/it]\n",
      "50it [00:37,  1.33it/s]\n"
     ]
    }
   ],
   "source": [
    "#   Then, execute the csdmatter tool\n",
    "thistool.execute()"
   ]
  },
  {
   "cell_type": "markdown",
   "id": "preceding-liquid",
   "metadata": {},
   "source": [
    "## Checking the results\n",
    "\n",
    "After several minutes, we can take a look at the results by loading the fits file. First, we retrieve the names of the different columns within the results. Then, accessing the `Mass` and `ULCrossSection` columns, we can get a plot for this example. For some cases, I got `nan` values for the flux obtained with `ctulimit`, but not sure why. More testing on this. By now, remove `nan` values from list"
   ]
  },
  {
   "cell_type": "code",
   "execution_count": 7,
   "id": "behind-above",
   "metadata": {},
   "outputs": [
    {
     "name": "stdout",
     "output_type": "stream",
     "text": [
      "MinEnergy\n",
      "MaxEnergy\n",
      "Mass\n",
      "Flux\n",
      "ErrFlux\n",
      "E2Flux\n",
      "E2ErrFlux\n",
      "LogL\n",
      "TS\n",
      "UpperLimit\n",
      "ScaleFactor\n",
      "ULCrossSection\n",
      "RefCrossSection\n"
     ]
    }
   ],
   "source": [
    "#   Take a look to the results\n",
    "fits  = gammalib.GFits(ofname)\n",
    "table = fits.table(1)\n",
    "\n",
    "#   Check the name of the different colums saved in the fits\n",
    "for ncol in range(table.ncols()) :\n",
    "    print(table[ncol].name())"
   ]
  },
  {
   "cell_type": "code",
   "execution_count": 8,
   "id": "manual-gravity",
   "metadata": {},
   "outputs": [
    {
     "name": "stdout",
     "output_type": "stream",
     "text": [
      "Mass (GeV)\tUL[sigmav](cm**3/s)\t\n",
      "1.00e+02:\t\t1.218e-23\n",
      "2.16e+02:\t\t4.184e-24\n",
      "4.65e+02:\t\t3.424e-24\n",
      "1.00e+03:\t\t5.172e-24\n",
      "2.16e+03:\t\t8.308e-24\n",
      "4.64e+03:\t\t1.499e-23\n",
      "1.00e+04:\t\t3.283e-23\n",
      "2.15e+04:\t\t9.395e-23\n",
      "4.64e+04:\t\t3.476e-22\n",
      "1.00e+05:\t\t1.555e-21\n"
     ]
    }
   ],
   "source": [
    "#   Get masses and values of the upperlimits\n",
    "masses   = [row for row in table['Mass']]\n",
    "sigmavul = [row for row in table['ULCrossSection']]\n",
    "print('Mass (GeV)\\tUL[sigmav](cm**3/s)\\t')\n",
    "for nrow in range(table.nrows()) :\n",
    "    print('{:.2e}:\\t\\t{:.3e}'.format(table['Mass'][nrow], table['ULCrossSection'][nrow]))"
   ]
  },
  {
   "cell_type": "code",
   "execution_count": 9,
   "id": "alien-miracle",
   "metadata": {},
   "outputs": [
    {
     "data": {
      "image/png": "[encoded data removed]",
      "text/plain": [
       "<Figure size 648x432 with 1 Axes>"
      ]
     },
     "metadata": {
      "needs_background": "light"
     },
     "output_type": "display_data"
    }
   ],
   "source": [
    "#   Plot the results\n",
    "import matplotlib.pyplot as plt\n",
    "\n",
    "#removing index 8 from masses and sigmavul\n",
    "# del masses[8]\n",
    "# del sigmavul[8]\n",
    "\n",
    "fig, ax = plt.subplots(figsize=(9, 6))\n",
    "\n",
    "ax.plot(masses, sigmavul, color=(0.82, 0.10, 0.26), lw=2, label='Toy-DarkHalo')\n",
    "\n",
    "ax.set_xlim(1.e+2, 1.e+5)\n",
    "ax.set_ylim(1.e-26, 1.e-20)\n",
    "ax.set_xscale('log')\n",
    "ax.set_yscale('log')\n",
    "ax.set_xlabel('Mass $(GeV)$')\n",
    "ax.set_ylabel('$\\\\langle\\\\sigma v\\\\rangle$ ($cm^{3} s^{-1}$)')\n",
    "\n",
    "ax.legend(loc='best', prop={'size':10})\n",
    "\n",
    "plt.show()"
   ]
  },
  {
   "cell_type": "code",
   "execution_count": 10,
   "id": "regular-strain",
   "metadata": {},
   "outputs": [
    {
     "name": "stdout",
     "output_type": "stream",
     "text": [
      "Mass (GeV)\tScale Factor\t\n",
      "1.00e+02:\t\t3.384e+02\n",
      "2.16e+02:\t\t1.162e+02\n",
      "4.65e+02:\t\t9.512e+01\n",
      "1.00e+03:\t\t1.437e+02\n",
      "2.16e+03:\t\t2.308e+02\n",
      "4.64e+03:\t\t4.165e+02\n",
      "1.00e+04:\t\t9.120e+02\n",
      "2.15e+04:\t\t2.610e+03\n",
      "4.64e+04:\t\t9.656e+03\n",
      "1.00e+05:\t\t4.319e+04\n"
     ]
    }
   ],
   "source": [
    "print('Mass (GeV)\\tScale Factor\\t')\n",
    "for nrow in range(table.nrows()) :\n",
    "    print('{:.2e}:\\t\\t{:.3e}'.format(table['Mass'][nrow], table['ScaleFactor'][nrow]))"
   ]
  },
  {
   "cell_type": "code",
   "execution_count": 11,
   "id": "economic-murder",
   "metadata": {},
   "outputs": [
    {
     "name": "stdout",
     "output_type": "stream",
     "text": [
      "Mass (GeV)\tUpper Limit\t\n",
      "1.00e+02:\t6.369e-11\n",
      "2.16e+02:\t1.436e-11\n",
      "4.65e+02:\t4.412e-12\n",
      "1.00e+03:\t1.932e-12\n",
      "2.16e+03:\t7.885e-13\n",
      "4.64e+03:\t3.449e-13\n",
      "1.00e+04:\t1.841e-13\n",
      "2.15e+04:\t1.315e-13\n",
      "4.64e+04:\t1.219e-13\n",
      "1.00e+05:\t1.344e-13\n"
     ]
    }
   ],
   "source": [
    "print('Mass (GeV)\\tUpper Limit\\t')\n",
    "for nrow in range(table.nrows()) :\n",
    "    print('{:.2e}:\\t{:.3e}'.format(table['Mass'][nrow], table['UpperLimit'][nrow]))"
   ]
  },
  {
   "cell_type": "code",
   "execution_count": 12,
   "id": "transsexual-spring",
   "metadata": {},
   "outputs": [],
   "source": [
    "thistool.logFileClose()"
   ]
  }
 ],
 "metadata": {
  "kernelspec": {
   "display_name": "Python 3",
   "language": "python",
   "name": "python3"
  },
  "language_info": {
   "codemirror_mode": {
    "name": "ipython",
    "version": 3
   },
   "file_extension": ".py",
   "mimetype": "text/x-python",
   "name": "python",
   "nbconvert_exporter": "python",
   "pygments_lexer": "ipython3",
   "version": "3.7.3"
  }
 },
 "nbformat": 4,
 "nbformat_minor": 5
}
