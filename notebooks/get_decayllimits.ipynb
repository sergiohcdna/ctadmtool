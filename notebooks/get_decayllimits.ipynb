{
 "cells": [
  {
   "cell_type": "markdown",
   "id": "hawaiian-rwanda",
   "metadata": {},
   "source": [
    "# Example of analysis script to get upper limits using csdmatter app\n",
    "\n",
    "The goal is to show you how to use the csdmatter app to compute exclusion limits to the lifetime of dark matter candidates using the PPPC4DMID tables.\n",
    "\n",
    "We start by importing `gammalib` and `ctools`, alongside the ```csdmatter``` tool."
   ]
  },
  {
   "cell_type": "code",
   "execution_count": 1,
   "id": "incredible-delta",
   "metadata": {},
   "outputs": [],
   "source": [
    "#   Default imports\n",
    "import gammalib\n",
    "import ctools\n",
    "import cscripts\n",
    "\n",
    "from ctadmtool.csdmatter import csdmatter\n",
    "\n",
    "import matplotlib.pyplot as plt\n",
    "%matplotlib inline\n",
    "\n",
    "import os"
   ]
  },
  {
   "cell_type": "markdown",
   "id": "dirty-cookbook",
   "metadata": {},
   "source": [
    "We used the observation from the previous example notebook `dmsimulation.ipynb`. You can use your own observations too. As other `ctools` and `gammalib` apps, you can directly pass the observation container from other tools/apps, either On or OnOff observations :)."
   ]
  },
  {
   "cell_type": "code",
   "execution_count": 2,
   "id": "arctic-airport",
   "metadata": {},
   "outputs": [],
   "source": [
    "#   Name of fits with events from a dm simulation\n",
    "#   The fits I am using here is obtained from \n",
    "#   the example \"Simulation of gamma-ray emission from a Toy Dark halo\"\n",
    "file = 'Haloobssim.fits'"
   ]
  },
  {
   "cell_type": "markdown",
   "id": "fleet-installation",
   "metadata": {},
   "source": [
    "## Input parameters\n",
    "\n",
    "The following shows all the input parameters required to initialize the `csdmatter` class.\n",
    "\n",
    "Don't forget to pass the dark matter spectrum (fits) file. You can check the notebook ```tablemodel``` folder to create your spectrum files."
   ]
  },
  {
   "cell_type": "code",
   "execution_count": 3,
   "id": "arabic-arthur",
   "metadata": {},
   "outputs": [],
   "source": [
    "#   csdmatter App input parameters\n",
    "#   I know there are a lot of input parameters\n",
    "#   And, at some point, some of the parameters can change, BTW\n",
    "mmin          = 100.0         #   Minimum value of mass range to compute ULs (in GeV)\n",
    "mmax          = 1.e+5         #   Maximum value of mass range to compute ULs (in GeV)\n",
    "mnumpoints    = 15            #   Number of points to compute in the range [mmin,mmax]\n",
    "process       = 'DECAY'       #   Process\n",
    "channel       = 'b'           #   annihilation channel\n",
    "ewcorrections = True          #   include EW corrections. I am using PPPC4DMID tables\n",
    "eblmodel      = 'dominguez'   #   EBL model to compute attenuation of gamma-ray flux\n",
    "redshift      = 0.01\n",
    "loglifetime   = +30.0         #   Log of sigmav (~3.6e-26)\n",
    "logdfactor    = 19.20         #   Log of Jfactor\n",
    "emin          = 30            #   Minimum energy to compute gamma-ray flux (in GeV)\n",
    "emax          = 1.e+5         #   Maximum energy to compute gamma-ray flux (in GeV)\n",
    "modtype       = 'PointSource' #   Model type\n",
    "ra            = 80.6          #   in degrees\n",
    "dec           = 23.5          #   in degrees\n",
    "nthreads      = 2             #   Number of threads\n",
    "caldb         = 'prod3b-v2'\n",
    "irf           = 'North_z40_50h'\n",
    "srcname       = 'ToyDarkHalo' #   name of the source"
   ]
  },
  {
   "cell_type": "markdown",
   "id": "blocked-springfield",
   "metadata": {},
   "source": [
    "Finally, you can choose a name to save the results in a fits file. Also you can use the method `dmmatter_fits()` to retrieve the fits container"
   ]
  },
  {
   "cell_type": "code",
   "execution_count": 4,
   "id": "fitted-volunteer",
   "metadata": {},
   "outputs": [],
   "source": [
    "#   Name of file to save results for every simulation\n",
    "ofname = 'DecayResultsExample{0}.fits'.format(srcname)"
   ]
  },
  {
   "cell_type": "markdown",
   "id": "equal-surname",
   "metadata": {},
   "source": [
    "## Create an instance of csdmatter tool\n",
    "\n",
    "Now, we can create an instance of `csdmatter` (`thistool`), and excute it."
   ]
  },
  {
   "cell_type": "code",
   "execution_count": 5,
   "id": "renewable-longer",
   "metadata": {},
   "outputs": [],
   "source": [
    "#   Create instance of csdmatter app\n",
    "thistool = csdmatter()\n",
    "\n",
    "#   Passing input parameter to the app\n",
    "thistool['inobs']         = file\n",
    "thistool['srcname']       = srcname\n",
    "thistool['mmin']          = mmin\n",
    "thistool['mmax']          = mmax\n",
    "thistool['mnumpoints']    = mnumpoints\n",
    "thistool['process']       = process\n",
    "thistool['channel']       = channel\n",
    "thistool['ewcorrections'] = ewcorrections\n",
    "thistool['loglifetime']   = loglifetime\n",
    "thistool['logdfactor']    = logdfactor\n",
    "thistool['emin']          = emin\n",
    "thistool['emax']          = emax\n",
    "thistool['modtype']       = modtype\n",
    "thistool['ra']            = ra\n",
    "thistool['dec']           = dec\n",
    "thistool['caldb']         = caldb\n",
    "thistool['irf']           = irf\n",
    "thistool['nthreads']      = nthreads\n",
    "thistool['outfile']       = ofname\n",
    "thistool[ 'clobber' ]     = True\n",
    "thistool['eblmodel']      = eblmodel\n",
    "thistool['redshift']      = redshift\n",
    "thistool['chatter']       = 4\n",
    "thistool['debug']         = True\n",
    "thistool.logFileOpen()"
   ]
  },
  {
   "cell_type": "markdown",
   "id": "southeast-syndication",
   "metadata": {},
   "source": [
    "Some new features include that you can retrieve properties of the dark matter model used to compute the gamma-ray flux, for example the astrophysical factor or the lifetime of the particle. As you can see, at this point you get the value at the moment of the initialization of the object. Only until ```run``` method is called the values of the different parameters. ```run``` is calling the ```_get_parameters``` method."
   ]
  },
  {
   "cell_type": "code",
   "execution_count": 6,
   "id": "furnished-profession",
   "metadata": {},
   "outputs": [
    {
     "name": "stdout",
     "output_type": "stream",
     "text": [
      "0.0\n"
     ]
    }
   ],
   "source": [
    "print(thistool.dfactor())"
   ]
  },
  {
   "cell_type": "code",
   "execution_count": 7,
   "id": "defensive-finder",
   "metadata": {},
   "outputs": [
    {
     "name": "stdout",
     "output_type": "stream",
     "text": [
      "0.0\n"
     ]
    }
   ],
   "source": [
    "print(thistool.lifetime())"
   ]
  },
  {
   "cell_type": "markdown",
   "id": "prospective-blanket",
   "metadata": {},
   "source": [
    "You can only use ```run``` to compute the exclusion limits for lifetime. You can retrieve the results using the method ```dmatter_fits```."
   ]
  },
  {
   "cell_type": "code",
   "execution_count": 8,
   "id": "affecting-gallery",
   "metadata": {},
   "outputs": [
    {
     "name": "stderr",
     "output_type": "stream",
     "text": [
      "                                                  \r"
     ]
    }
   ],
   "source": [
    "thistool.run()"
   ]
  },
  {
   "cell_type": "code",
   "execution_count": 9,
   "id": "arranged-variance",
   "metadata": {},
   "outputs": [],
   "source": [
    "dmfits = thistool.dmatter_fits()"
   ]
  },
  {
   "cell_type": "markdown",
   "id": "sublime-outside",
   "metadata": {},
   "source": [
    "Here, we extract the table with all the results. We show all the columns saved in the table."
   ]
  },
  {
   "cell_type": "code",
   "execution_count": 10,
   "id": "backed-compatibility",
   "metadata": {},
   "outputs": [
    {
     "name": "stdout",
     "output_type": "stream",
     "text": [
      "MinEnergy\n",
      "MaxEnergy\n",
      "Mass\n",
      "Flux\n",
      "ErrFlux\n",
      "E2Flux\n",
      "E2ErrFlux\n",
      "LogL\n",
      "TS\n",
      "UpperLimit\n",
      "ScaleFactor\n",
      "ULLifetime\n",
      "RefLifetime\n",
      "ToyDarkHalo-RA\n",
      "ToyDarkHalo-RA_err\n",
      "ToyDarkHalo-RA_isfree\n",
      "ToyDarkHalo-DEC\n",
      "ToyDarkHalo-DEC_err\n",
      "ToyDarkHalo-DEC_isfree\n",
      "ToyDarkHalo-Normalization\n",
      "ToyDarkHalo-Normalization_err\n",
      "ToyDarkHalo-Normalization_isfree\n",
      "ToyDarkHalo-Mass\n",
      "ToyDarkHalo-Mass_err\n",
      "ToyDarkHalo-Mass_isfree\n",
      "Background-Prefactor\n",
      "Background-Prefactor_err\n",
      "Background-Prefactor_isfree\n",
      "Background-Index\n",
      "Background-Index_err\n",
      "Background-Index_isfree\n",
      "Background-PivotEnergy\n",
      "Background-PivotEnergy_err\n",
      "Background-PivotEnergy_isfree\n",
      "Background-Normalization\n",
      "Background-Normalization_err\n",
      "Background-Normalization_isfree\n"
     ]
    }
   ],
   "source": [
    "table = dmfits.table(1)\n",
    "\n",
    "#   Check the name of the different colums saved in the fits\n",
    "for ncol in range(table.ncols()) :\n",
    "    print( table[ncol].name())"
   ]
  },
  {
   "cell_type": "markdown",
   "id": "sunset-capability",
   "metadata": {},
   "source": [
    "Here, we can take a look at the values of the different columns, for example the ```mass```, the ```TS``` or the ```lifetime```"
   ]
  },
  {
   "cell_type": "code",
   "execution_count": 11,
   "id": "excellent-alert",
   "metadata": {},
   "outputs": [
    {
     "name": "stdout",
     "output_type": "stream",
     "text": [
      "Mass (TeV)\t\tUL[sigmav](s)\t\tTS\n",
      "1.00e+02:\t\t9.677e+23:\t\t-6.365e-02\n",
      "1.64e+02:\t\t3.056e+24:\t\t-7.073e-03\n",
      "2.69e+02:\t\t1.713e+25:\t\t-2.871e-02\n",
      "4.40e+02:\t\t4.952e+25:\t\t-2.515e-02\n",
      "7.20e+02:\t\t9.883e+25:\t\t-1.111e-02\n",
      "1.18e+03:\t\t1.560e+26:\t\t-2.150e-03\n",
      "1.93e+03:\t\t2.156e+26:\t\t-2.366e-07\n",
      "3.16e+03:\t\t3.086e+26:\t\t9.967e-02\n",
      "5.18e+03:\t\t4.924e+26:\t\t5.780e-02\n",
      "8.48e+03:\t\t8.446e+26:\t\t-2.551e-05\n",
      "1.39e+04:\t\t1.337e+27:\t\t-6.333e-08\n",
      "2.28e+04:\t\t1.945e+27:\t\t-4.173e-04\n",
      "3.73e+04:\t\t2.376e+27:\t\t-2.196e-04\n",
      "6.11e+04:\t\t2.543e+27:\t\t-1.474e-05\n",
      "1.00e+05:\t\t2.566e+27:\t\t2.496e-02\n"
     ]
    }
   ],
   "source": [
    "#   Get masses and values of the upperlimits\n",
    "# masses   = [row for row in table['Mass']]\n",
    "# sigmavul = [row for row in table['ULCrossSection']]\n",
    "m_unit   = table['Mass'].unit()\n",
    "tau_unit = table['ULLifetime'].unit()\n",
    "print('Mass ({})\\t\\tUL[sigmav]({})\\t\\tTS'.format(m_unit,tau_unit))\n",
    "for nrow in range(table.nrows()) :\n",
    "    m       = table['Mass'][nrow]\n",
    "    tau_chi = table['ULLifetime'][nrow]\n",
    "    ts      = table['TS'][nrow]\n",
    "    print('{:.2e}:\\t\\t{:.3e}:\\t\\t{:.3e}'.format(m, tau_chi,ts))"
   ]
  },
  {
   "cell_type": "markdown",
   "id": "bibliographic-footwear",
   "metadata": {},
   "source": [
    "So, at this point, we can check the reference value used to compute the dark matter model to compute the exclusion limits."
   ]
  },
  {
   "cell_type": "code",
   "execution_count": 12,
   "id": "yellow-steel",
   "metadata": {},
   "outputs": [
    {
     "data": {
      "text/plain": [
       "1e+30"
      ]
     },
     "execution_count": 12,
     "metadata": {},
     "output_type": "execute_result"
    }
   ],
   "source": [
    "thistool.lifetime()"
   ]
  },
  {
   "cell_type": "markdown",
   "id": "burning-western",
   "metadata": {},
   "source": [
    "Finally, we can plot all the results:\n",
    "(*Note:I don't know why there are `NaN` values for some masses, probably because the observation time [checking]*)"
   ]
  },
  {
   "cell_type": "code",
   "execution_count": 13,
   "id": "cathedral-murray",
   "metadata": {},
   "outputs": [
    {
     "data": {
      "image/png": "[encoded data removed]",
      "text/plain": [
       "<Figure size 648x432 with 1 Axes>"
      ]
     },
     "metadata": {
      "needs_background": "light"
     },
     "output_type": "display_data"
    }
   ],
   "source": [
    "#   Plot the results\n",
    "masses   = [row for row in table['Mass']]\n",
    "lifetime = [row for row in table['ULLifetime']]\n",
    "\n",
    "fig, ax = plt.subplots(figsize=(9, 6))\n",
    "\n",
    "ax.plot(masses, lifetime, color=(0.82, 0.10, 0.26), lw=2, label='Toy-DarkHalo')\n",
    "\n",
    "ax.set_xlim(1.e+2, 1.e+5)\n",
    "ax.set_ylim(1.e+20, 1.e+28)\n",
    "ax.set_xscale('log')\n",
    "ax.set_yscale('log')\n",
    "ax.set_xlabel('Mass $(GeV)$', fontsize=18)\n",
    "ax.set_ylabel('$\\\\tau_{\\\\chi}$ (s)', fontsize=18)\n",
    "ax.tick_params(labelsize=12)\n",
    "\n",
    "ax.legend(loc='best', prop={'size':14})\n",
    "\n",
    "plt.savefig('ToyDecay.png')\n",
    "plt.show()"
   ]
  },
  {
   "cell_type": "code",
   "execution_count": 14,
   "id": "burning-norfolk",
   "metadata": {},
   "outputs": [],
   "source": [
    "thistool.logFileClose()"
   ]
  }
 ],
 "metadata": {
  "kernelspec": {
   "display_name": "Python 3",
   "language": "python",
   "name": "python3"
  },
  "language_info": {
   "codemirror_mode": {
    "name": "ipython",
    "version": 3
   },
   "file_extension": ".py",
   "mimetype": "text/x-python",
   "name": "python",
   "nbconvert_exporter": "python",
   "pygments_lexer": "ipython3",
   "version": "3.7.3"
  }
 },
 "nbformat": 4,
 "nbformat_minor": 5
}
